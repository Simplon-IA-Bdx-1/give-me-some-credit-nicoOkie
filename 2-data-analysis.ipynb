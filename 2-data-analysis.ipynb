{
 "cells": [
  {
   "cell_type": "markdown",
   "metadata": {
    "slideshow": {
     "slide_type": "slide"
    }
   },
   "source": [
    "# Model training & Data Analyse"
   ]
  },
  {
   "cell_type": "markdown",
   "metadata": {
    "slideshow": {
     "slide_type": "subslide"
    }
   },
   "source": [
    "## Imports"
   ]
  },
  {
   "cell_type": "code",
   "execution_count": 1,
   "metadata": {
    "slideshow": {
     "slide_type": "subslide"
    }
   },
   "outputs": [],
   "source": [
    "import pandas as pd\n",
    "import bigml.api\n",
    "import matplotlib.pyplot as plt"
   ]
  },
  {
   "cell_type": "markdown",
   "metadata": {
    "slideshow": {
     "slide_type": "slide"
    }
   },
   "source": [
    "## Instantiate BigMl - need BigML's project id"
   ]
  },
  {
   "cell_type": "code",
   "execution_count": null,
   "metadata": {
    "slideshow": {
     "slide_type": "subslide"
    }
   },
   "outputs": [],
   "source": [
    "api = bigml.api.BigML(project='project/5db1644859f5c33b3c00076c')"
   ]
  },
  {
   "cell_type": "markdown",
   "metadata": {
    "slideshow": {
     "slide_type": "slide"
    }
   },
   "source": [
    "## Creating datasets"
   ]
  },
  {
   "cell_type": "code",
   "execution_count": null,
   "metadata": {
    "code_folding": [
     0
    ],
    "slideshow": {
     "slide_type": "subslide"
    }
   },
   "outputs": [],
   "source": [
    "# Sources files\n",
    "train_full_source = api.create_source('./full_train_edit.csv')\n",
    "test_source = api.create_source('./test_edit.csv')\n",
    "api.ok(test_source)"
   ]
  },
  {
   "cell_type": "code",
   "execution_count": null,
   "metadata": {
    "code_folding": [
     0
    ],
    "slideshow": {
     "slide_type": "subslide"
    }
   },
   "outputs": [],
   "source": [
    "# Datasets\n",
    "train_full_dataset = api.create_dataset(train_full_source)\n",
    "test_dataset = api.create_dataset(test_source)\n",
    "api.ok(train_full_dataset)"
   ]
  },
  {
   "cell_type": "markdown",
   "metadata": {
    "slideshow": {
     "slide_type": "subslide"
    }
   },
   "source": [
    "Splitting train_full in a train dataset and a validation dataset"
   ]
  },
  {
   "cell_type": "code",
   "execution_count": null,
   "metadata": {
    "code_folding": [
     0,
     4
    ],
    "slideshow": {
     "slide_type": "subslide"
    }
   },
   "outputs": [],
   "source": [
    "train_dataset = api.create_dataset(\n",
    "    train_full_dataset, {\"name\": \"Train Dataset\",\n",
    "                         \"sample_rate\": 0.8, \"seed\": \"my seed\"})\n",
    "api.ok(train_dataset)\n",
    "test_dataset = api.create_dataset(\n",
    "    train_full_dataset, {\"name\": \"Validation Dataset\",\n",
    "                         \"sample_rate\": 0.8, \"seed\": \"my seed\",\n",
    "                         \"out_of_bag\": True})\n",
    "api.ok(test_dataset)"
   ]
  },
  {
   "cell_type": "markdown",
   "metadata": {},
   "source": [
    "## Training a model"
   ]
  },
  {
   "cell_type": "code",
   "execution_count": null,
   "metadata": {
    "code_folding": [
     0
    ]
   },
   "outputs": [],
   "source": [
    "ensemble = api.create_ensemble(\n",
    "    train_dataset, {\"objective_field\": \"SeriousDlqin2yrs\"})\n",
    "api.ok(ensemble)"
   ]
  },
  {
   "cell_type": "markdown",
   "metadata": {},
   "source": [
    "## Batching a prediction\n",
    "\n",
    "### making the prediction"
   ]
  },
  {
   "cell_type": "code",
   "execution_count": null,
   "metadata": {
    "code_folding": [
     0
    ]
   },
   "outputs": [],
   "source": [
    "prediction = api.create_batch_prediction(ensemble, test_dataset, {\n",
    "    \"name\": \"1st shot\",\n",
    "    \"all_fields\": True,\n",
    "    \"prediction_name\": \"Prediction\",\n",
    "    \"probabilities\": True\n",
    "})\n",
    "api.ok(prediction)"
   ]
  },
  {
   "cell_type": "markdown",
   "metadata": {},
   "source": [
    "### downloading the prediction"
   ]
  },
  {
   "cell_type": "code",
   "execution_count": null,
   "metadata": {
    "code_folding": [
     0
    ]
   },
   "outputs": [],
   "source": [
    "api.download_batch_prediction(\n",
    "    'batchprediction/5dc036bc5299632024000e4f', filename=\"./prediction.csv\")"
   ]
  },
  {
   "cell_type": "markdown",
   "metadata": {},
   "source": [
    "FILE TO LUNCH"
   ]
  },
  {
   "cell_type": "code",
   "execution_count": 32,
   "metadata": {},
   "outputs": [
    {
     "data": {
      "text/html": [
       "<div>\n",
       "<style scoped>\n",
       "    .dataframe tbody tr th:only-of-type {\n",
       "        vertical-align: middle;\n",
       "    }\n",
       "\n",
       "    .dataframe tbody tr th {\n",
       "        vertical-align: top;\n",
       "    }\n",
       "\n",
       "    .dataframe thead th {\n",
       "        text-align: right;\n",
       "    }\n",
       "</style>\n",
       "<table border=\"1\" class=\"dataframe\">\n",
       "  <thead>\n",
       "    <tr style=\"text-align: right;\">\n",
       "      <th></th>\n",
       "      <th>SeriousDlqin2yrs</th>\n",
       "      <th>RevolvingUtilizationOfUnsecuredLines</th>\n",
       "      <th>age</th>\n",
       "      <th>NumberOfTime30-59DaysPastDueNotWorse</th>\n",
       "      <th>DebtRatio</th>\n",
       "      <th>MonthlyIncome</th>\n",
       "      <th>NumberOfOpenCreditLinesAndLoans</th>\n",
       "      <th>NumberOfTimes90DaysLate</th>\n",
       "      <th>NumberRealEstateLoansOrLines</th>\n",
       "      <th>NumberOfTime60-89DaysPastDueNotWorse</th>\n",
       "      <th>NumberOfDependents</th>\n",
       "      <th>NumberOfTimes30DaysOrMoreLate</th>\n",
       "      <th>IncomePerPerson</th>\n",
       "      <th>MonthlyDebt</th>\n",
       "      <th>MonthlyBalance</th>\n",
       "      <th>Prediction</th>\n",
       "      <th>0 probability</th>\n",
       "      <th>1 probability</th>\n",
       "    </tr>\n",
       "    <tr>\n",
       "      <th>Id</th>\n",
       "      <th></th>\n",
       "      <th></th>\n",
       "      <th></th>\n",
       "      <th></th>\n",
       "      <th></th>\n",
       "      <th></th>\n",
       "      <th></th>\n",
       "      <th></th>\n",
       "      <th></th>\n",
       "      <th></th>\n",
       "      <th></th>\n",
       "      <th></th>\n",
       "      <th></th>\n",
       "      <th></th>\n",
       "      <th></th>\n",
       "      <th></th>\n",
       "      <th></th>\n",
       "      <th></th>\n",
       "    </tr>\n",
       "  </thead>\n",
       "  <tbody>\n",
       "    <tr>\n",
       "      <td>5</td>\n",
       "      <td>0</td>\n",
       "      <td>0.907239</td>\n",
       "      <td>49</td>\n",
       "      <td>1</td>\n",
       "      <td>0.024926</td>\n",
       "      <td>63588</td>\n",
       "      <td>7</td>\n",
       "      <td>0</td>\n",
       "      <td>1</td>\n",
       "      <td>0</td>\n",
       "      <td>0</td>\n",
       "      <td>1</td>\n",
       "      <td>63588.0</td>\n",
       "      <td>1584.975094</td>\n",
       "      <td>62003.024906</td>\n",
       "      <td>0</td>\n",
       "      <td>0.87592</td>\n",
       "      <td>0.12408</td>\n",
       "    </tr>\n",
       "    <tr>\n",
       "      <td>20</td>\n",
       "      <td>0</td>\n",
       "      <td>0.602794</td>\n",
       "      <td>25</td>\n",
       "      <td>0</td>\n",
       "      <td>0.065868</td>\n",
       "      <td>333</td>\n",
       "      <td>2</td>\n",
       "      <td>0</td>\n",
       "      <td>0</td>\n",
       "      <td>0</td>\n",
       "      <td>0</td>\n",
       "      <td>0</td>\n",
       "      <td>333.0</td>\n",
       "      <td>21.934132</td>\n",
       "      <td>311.065868</td>\n",
       "      <td>0</td>\n",
       "      <td>0.93889</td>\n",
       "      <td>0.06111</td>\n",
       "    </tr>\n",
       "    <tr>\n",
       "      <td>27</td>\n",
       "      <td>0</td>\n",
       "      <td>0.052436</td>\n",
       "      <td>58</td>\n",
       "      <td>0</td>\n",
       "      <td>0.097672</td>\n",
       "      <td>8333</td>\n",
       "      <td>22</td>\n",
       "      <td>0</td>\n",
       "      <td>1</td>\n",
       "      <td>0</td>\n",
       "      <td>0</td>\n",
       "      <td>0</td>\n",
       "      <td>8333.0</td>\n",
       "      <td>813.902326</td>\n",
       "      <td>7519.097674</td>\n",
       "      <td>0</td>\n",
       "      <td>0.98896</td>\n",
       "      <td>0.01104</td>\n",
       "    </tr>\n",
       "    <tr>\n",
       "      <td>28</td>\n",
       "      <td>0</td>\n",
       "      <td>0.034421</td>\n",
       "      <td>69</td>\n",
       "      <td>0</td>\n",
       "      <td>0.042383</td>\n",
       "      <td>2500</td>\n",
       "      <td>17</td>\n",
       "      <td>0</td>\n",
       "      <td>0</td>\n",
       "      <td>0</td>\n",
       "      <td>1</td>\n",
       "      <td>0</td>\n",
       "      <td>1250.0</td>\n",
       "      <td>105.957617</td>\n",
       "      <td>2394.042382</td>\n",
       "      <td>0</td>\n",
       "      <td>0.99523</td>\n",
       "      <td>0.00477</td>\n",
       "    </tr>\n",
       "    <tr>\n",
       "      <td>31</td>\n",
       "      <td>0</td>\n",
       "      <td>0.704074</td>\n",
       "      <td>28</td>\n",
       "      <td>1</td>\n",
       "      <td>0.155201</td>\n",
       "      <td>4200</td>\n",
       "      <td>8</td>\n",
       "      <td>0</td>\n",
       "      <td>0</td>\n",
       "      <td>0</td>\n",
       "      <td>0</td>\n",
       "      <td>1</td>\n",
       "      <td>4200.0</td>\n",
       "      <td>651.844801</td>\n",
       "      <td>3548.155199</td>\n",
       "      <td>0</td>\n",
       "      <td>0.89492</td>\n",
       "      <td>0.10508</td>\n",
       "    </tr>\n",
       "    <tr>\n",
       "      <td>...</td>\n",
       "      <td>...</td>\n",
       "      <td>...</td>\n",
       "      <td>...</td>\n",
       "      <td>...</td>\n",
       "      <td>...</td>\n",
       "      <td>...</td>\n",
       "      <td>...</td>\n",
       "      <td>...</td>\n",
       "      <td>...</td>\n",
       "      <td>...</td>\n",
       "      <td>...</td>\n",
       "      <td>...</td>\n",
       "      <td>...</td>\n",
       "      <td>...</td>\n",
       "      <td>...</td>\n",
       "      <td>...</td>\n",
       "      <td>...</td>\n",
       "      <td>...</td>\n",
       "    </tr>\n",
       "    <tr>\n",
       "      <td>149964</td>\n",
       "      <td>0</td>\n",
       "      <td>0.230353</td>\n",
       "      <td>61</td>\n",
       "      <td>0</td>\n",
       "      <td>883.000000</td>\n",
       "      <td>0</td>\n",
       "      <td>15</td>\n",
       "      <td>0</td>\n",
       "      <td>0</td>\n",
       "      <td>0</td>\n",
       "      <td>2</td>\n",
       "      <td>0</td>\n",
       "      <td>0.0</td>\n",
       "      <td>0.000000</td>\n",
       "      <td>0.000000</td>\n",
       "      <td>0</td>\n",
       "      <td>0.98662</td>\n",
       "      <td>0.01338</td>\n",
       "    </tr>\n",
       "    <tr>\n",
       "      <td>149972</td>\n",
       "      <td>0</td>\n",
       "      <td>0.058001</td>\n",
       "      <td>83</td>\n",
       "      <td>0</td>\n",
       "      <td>0.013997</td>\n",
       "      <td>5000</td>\n",
       "      <td>6</td>\n",
       "      <td>0</td>\n",
       "      <td>0</td>\n",
       "      <td>0</td>\n",
       "      <td>0</td>\n",
       "      <td>0</td>\n",
       "      <td>5000.0</td>\n",
       "      <td>69.986005</td>\n",
       "      <td>4930.013995</td>\n",
       "      <td>0</td>\n",
       "      <td>0.99594</td>\n",
       "      <td>0.00406</td>\n",
       "    </tr>\n",
       "    <tr>\n",
       "      <td>149976</td>\n",
       "      <td>0</td>\n",
       "      <td>0.022088</td>\n",
       "      <td>58</td>\n",
       "      <td>0</td>\n",
       "      <td>2716.000000</td>\n",
       "      <td>0</td>\n",
       "      <td>8</td>\n",
       "      <td>0</td>\n",
       "      <td>2</td>\n",
       "      <td>0</td>\n",
       "      <td>0</td>\n",
       "      <td>0</td>\n",
       "      <td>0.0</td>\n",
       "      <td>0.000000</td>\n",
       "      <td>0.000000</td>\n",
       "      <td>0</td>\n",
       "      <td>0.99528</td>\n",
       "      <td>0.00472</td>\n",
       "    </tr>\n",
       "    <tr>\n",
       "      <td>149986</td>\n",
       "      <td>0</td>\n",
       "      <td>0.954409</td>\n",
       "      <td>26</td>\n",
       "      <td>0</td>\n",
       "      <td>0.324962</td>\n",
       "      <td>1950</td>\n",
       "      <td>4</td>\n",
       "      <td>0</td>\n",
       "      <td>0</td>\n",
       "      <td>0</td>\n",
       "      <td>0</td>\n",
       "      <td>0</td>\n",
       "      <td>1950.0</td>\n",
       "      <td>633.675038</td>\n",
       "      <td>1316.324962</td>\n",
       "      <td>0</td>\n",
       "      <td>0.91763</td>\n",
       "      <td>0.08237</td>\n",
       "    </tr>\n",
       "    <tr>\n",
       "      <td>149998</td>\n",
       "      <td>0</td>\n",
       "      <td>0.246044</td>\n",
       "      <td>58</td>\n",
       "      <td>0</td>\n",
       "      <td>3870.000000</td>\n",
       "      <td>0</td>\n",
       "      <td>18</td>\n",
       "      <td>0</td>\n",
       "      <td>1</td>\n",
       "      <td>0</td>\n",
       "      <td>0</td>\n",
       "      <td>0</td>\n",
       "      <td>0.0</td>\n",
       "      <td>0.000000</td>\n",
       "      <td>0.000000</td>\n",
       "      <td>0</td>\n",
       "      <td>0.98726</td>\n",
       "      <td>0.01274</td>\n",
       "    </tr>\n",
       "  </tbody>\n",
       "</table>\n",
       "<p>30000 rows × 18 columns</p>\n",
       "</div>"
      ],
      "text/plain": [
       "        SeriousDlqin2yrs  RevolvingUtilizationOfUnsecuredLines  age  \\\n",
       "Id                                                                    \n",
       "5                      0                              0.907239   49   \n",
       "20                     0                              0.602794   25   \n",
       "27                     0                              0.052436   58   \n",
       "28                     0                              0.034421   69   \n",
       "31                     0                              0.704074   28   \n",
       "...                  ...                                   ...  ...   \n",
       "149964                 0                              0.230353   61   \n",
       "149972                 0                              0.058001   83   \n",
       "149976                 0                              0.022088   58   \n",
       "149986                 0                              0.954409   26   \n",
       "149998                 0                              0.246044   58   \n",
       "\n",
       "        NumberOfTime30-59DaysPastDueNotWorse    DebtRatio  MonthlyIncome  \\\n",
       "Id                                                                         \n",
       "5                                          1     0.024926          63588   \n",
       "20                                         0     0.065868            333   \n",
       "27                                         0     0.097672           8333   \n",
       "28                                         0     0.042383           2500   \n",
       "31                                         1     0.155201           4200   \n",
       "...                                      ...          ...            ...   \n",
       "149964                                     0   883.000000              0   \n",
       "149972                                     0     0.013997           5000   \n",
       "149976                                     0  2716.000000              0   \n",
       "149986                                     0     0.324962           1950   \n",
       "149998                                     0  3870.000000              0   \n",
       "\n",
       "        NumberOfOpenCreditLinesAndLoans  NumberOfTimes90DaysLate  \\\n",
       "Id                                                                 \n",
       "5                                     7                        0   \n",
       "20                                    2                        0   \n",
       "27                                   22                        0   \n",
       "28                                   17                        0   \n",
       "31                                    8                        0   \n",
       "...                                 ...                      ...   \n",
       "149964                               15                        0   \n",
       "149972                                6                        0   \n",
       "149976                                8                        0   \n",
       "149986                                4                        0   \n",
       "149998                               18                        0   \n",
       "\n",
       "        NumberRealEstateLoansOrLines  NumberOfTime60-89DaysPastDueNotWorse  \\\n",
       "Id                                                                           \n",
       "5                                  1                                     0   \n",
       "20                                 0                                     0   \n",
       "27                                 1                                     0   \n",
       "28                                 0                                     0   \n",
       "31                                 0                                     0   \n",
       "...                              ...                                   ...   \n",
       "149964                             0                                     0   \n",
       "149972                             0                                     0   \n",
       "149976                             2                                     0   \n",
       "149986                             0                                     0   \n",
       "149998                             1                                     0   \n",
       "\n",
       "        NumberOfDependents  NumberOfTimes30DaysOrMoreLate  IncomePerPerson  \\\n",
       "Id                                                                           \n",
       "5                        0                              1          63588.0   \n",
       "20                       0                              0            333.0   \n",
       "27                       0                              0           8333.0   \n",
       "28                       1                              0           1250.0   \n",
       "31                       0                              1           4200.0   \n",
       "...                    ...                            ...              ...   \n",
       "149964                   2                              0              0.0   \n",
       "149972                   0                              0           5000.0   \n",
       "149976                   0                              0              0.0   \n",
       "149986                   0                              0           1950.0   \n",
       "149998                   0                              0              0.0   \n",
       "\n",
       "        MonthlyDebt  MonthlyBalance  Prediction  0 probability  1 probability  \n",
       "Id                                                                             \n",
       "5       1584.975094    62003.024906           0        0.87592        0.12408  \n",
       "20        21.934132      311.065868           0        0.93889        0.06111  \n",
       "27       813.902326     7519.097674           0        0.98896        0.01104  \n",
       "28       105.957617     2394.042382           0        0.99523        0.00477  \n",
       "31       651.844801     3548.155199           0        0.89492        0.10508  \n",
       "...             ...             ...         ...            ...            ...  \n",
       "149964     0.000000        0.000000           0        0.98662        0.01338  \n",
       "149972    69.986005     4930.013995           0        0.99594        0.00406  \n",
       "149976     0.000000        0.000000           0        0.99528        0.00472  \n",
       "149986   633.675038     1316.324962           0        0.91763        0.08237  \n",
       "149998     0.000000        0.000000           0        0.98726        0.01274  \n",
       "\n",
       "[30000 rows x 18 columns]"
      ]
     },
     "execution_count": 32,
     "metadata": {},
     "output_type": "execute_result"
    }
   ],
   "source": [
    "prediction_df = pd.read_csv(\"./prediction.csv\", index_col=0)\n",
    "prediction_df"
   ]
  },
  {
   "cell_type": "markdown",
   "metadata": {},
   "source": [
    "## Analysing the prediction's results"
   ]
  },
  {
   "cell_type": "code",
   "execution_count": null,
   "metadata": {
    "code_folding": []
   },
   "outputs": [],
   "source": [
    "# Writing the confusion (FP, FN, TP, TN)\n",
    "\n",
    "\n",
    "def set_confusion(row):\n",
    "    if (row['SeriousDlqin2yrs'] == row['Prediction'] and row['SeriousDlqin2yrs'] == 0):\n",
    "        return 'TN'\n",
    "    if (row['SeriousDlqin2yrs'] == row['Prediction'] and row['SeriousDlqin2yrs'] == 1):\n",
    "        return 'TP'\n",
    "    if row['SeriousDlqin2yrs'] > row['Prediction']:\n",
    "        return 'FN'\n",
    "    return 'FP'"
   ]
  },
  {
   "cell_type": "code",
   "execution_count": null,
   "metadata": {
    "code_folding": []
   },
   "outputs": [],
   "source": [
    "prediction_df['confusion'] = prediction_df.apply(set_confusion, axis=1)\n",
    "prediction_df.head(50)"
   ]
  },
  {
   "cell_type": "markdown",
   "metadata": {},
   "source": [
    "## Exporting in csv the 100 biggest errors"
   ]
  },
  {
   "cell_type": "code",
   "execution_count": null,
   "metadata": {
    "code_folding": [
     0
    ]
   },
   "outputs": [],
   "source": [
    "prediction_df_classified = prediction_df.sort_values(\n",
    "    by=['confusion', '1 probability'], ascending=[True, True])\n",
    "confusion = prediction_df_classified.groupby(['confusion']).confusion.count()\n",
    "confusion"
   ]
  },
  {
   "cell_type": "markdown",
   "metadata": {},
   "source": [
    "## Optimisation du seuil"
   ]
  },
  {
   "cell_type": "markdown",
   "metadata": {},
   "source": [
    "creation d'une colone d'erreur en fonction d'un seuil"
   ]
  },
  {
   "cell_type": "code",
   "execution_count": 3,
   "metadata": {
    "code_folding": []
   },
   "outputs": [],
   "source": [
    "def set_prediction_with_threshold(row, threshold):\n",
    "    if row['1 probability'] > threshold:\n",
    "        return 1\n",
    "    return 0"
   ]
  },
  {
   "cell_type": "code",
   "execution_count": 39,
   "metadata": {
    "code_folding": []
   },
   "outputs": [],
   "source": [
    "prediction_df['my_prediction'] = prediction_df.apply(set_prediction_with_threshold, args=(0.5,), axis=1)"
   ]
  },
  {
   "cell_type": "code",
   "execution_count": 4,
   "metadata": {
    "code_folding": []
   },
   "outputs": [],
   "source": [
    "def set_confusion(row):\n",
    "    if (row['SeriousDlqin2yrs'] == row['my_prediction'] and row['SeriousDlqin2yrs'] == 0):\n",
    "        return 'TN'\n",
    "    if (row['SeriousDlqin2yrs'] == row['my_prediction'] and row['SeriousDlqin2yrs'] == 1):\n",
    "        return 'TP'\n",
    "    if row['SeriousDlqin2yrs'] > row['my_prediction']:\n",
    "        return 'FN'\n",
    "    return 'FP'"
   ]
  },
  {
   "cell_type": "code",
   "execution_count": null,
   "metadata": {
    "code_folding": []
   },
   "outputs": [],
   "source": [
    "prediction_df['confusion'] = prediction_df.apply(set_confusion, axis=1)"
   ]
  },
  {
   "cell_type": "markdown",
   "metadata": {},
   "source": [
    "Confusion matrix"
   ]
  },
  {
   "cell_type": "code",
   "execution_count": 5,
   "metadata": {
    "code_folding": []
   },
   "outputs": [],
   "source": [
    "def count_confusion_values(col):\n",
    "    try:\n",
    "        TN = col.value_counts().to_dict()['TN']\n",
    "    except:\n",
    "        TN = 0\n",
    "    try:\n",
    "        FN = col.value_counts().to_dict()['FN']\n",
    "    except:\n",
    "        FN = 0\n",
    "    try:\n",
    "        TP = col.value_counts().to_dict()['TP']\n",
    "    except:\n",
    "        TP = 0\n",
    "    try:\n",
    "        FP = col.value_counts().to_dict()['FP']\n",
    "    except:\n",
    "        FP = 0\n",
    "    return TN, FN, TP, FP"
   ]
  },
  {
   "cell_type": "code",
   "execution_count": null,
   "metadata": {
    "code_folding": []
   },
   "outputs": [],
   "source": [
    "confusion_matrix = count_confusion_values(prediction_df['confusion'])\n",
    "print(confusion_matrix)"
   ]
  },
  {
   "cell_type": "markdown",
   "metadata": {},
   "source": [
    "Cost matrix"
   ]
  },
  {
   "cell_type": "code",
   "execution_count": null,
   "metadata": {
    "code_folding": []
   },
   "outputs": [],
   "source": [
    "def profit_matrix(confusion_matrix):\n",
    "    TN_cost = 500\n",
    "    FN_cost = -2500\n",
    "    TP_cost = 0\n",
    "    FP_cost = -500\n",
    "    total_cost = (confusion_matrix[0] * TN_cost\n",
    "                  + confusion_matrix[1] * FN_cost\n",
    "                  + confusion_matrix[2] * TP_cost\n",
    "                  + confusion_matrix[3] * FP_cost)\n",
    "    return total_cost"
   ]
  },
  {
   "cell_type": "code",
   "execution_count": null,
   "metadata": {
    "code_folding": []
   },
   "outputs": [],
   "source": [
    "profit = profit_matrix(confusion_matrix)\n",
    "print(profit)"
   ]
  },
  {
   "cell_type": "markdown",
   "metadata": {},
   "source": [
    "## Computing AUC\n",
    "\n",
    "En fonction du seuil:\n",
    "\n",
    "- courbe ROC => TPR / FPR\n",
    "    - TPR = TP / (TP + FN)\n",
    "    - FPR = FP / (FP + TN)"
   ]
  },
  {
   "cell_type": "code",
   "execution_count": 6,
   "metadata": {},
   "outputs": [],
   "source": [
    "def set_tpr_fpr(confusion_matrix):\n",
    "    tpr = confusion_matrix[2] / (confusion_matrix[2] + confusion_matrix[1])\n",
    "    fpr = confusion_matrix[3] / (confusion_matrix[3] + confusion_matrix[0])\n",
    "    return [tpr, fpr]"
   ]
  },
  {
   "cell_type": "code",
   "execution_count": 23,
   "metadata": {},
   "outputs": [],
   "source": [
    "def computing_with_threshold():\n",
    "    tpr_list = []\n",
    "    fpr_list = []\n",
    "    for i in range(101):\n",
    "        threshold = i/100\n",
    "        # set prediction threshold based\n",
    "        prediction_df['my_prediction'] = prediction_df.apply(\n",
    "            set_prediction_with_threshold,args=(threshold,), axis=1)\n",
    "        # creating the confusion column\n",
    "        prediction_df['confusion'] = prediction_df.apply(set_confusion, axis=1)\n",
    "        # creating the confusion matrix\n",
    "        confusion_matrix = count_confusion_values(prediction_df['confusion'])\n",
    "        # setting the fpr and tpr list\n",
    "        tpr_fpr_list = set_tpr_fpr(confusion_matrix)\n",
    "        tpr_list.append(tpr_fpr_list[0])\n",
    "        fpr_list.append(tpr_fpr_list[1])\n",
    "        \n",
    "    return tpr_list, fpr_list"
   ]
  },
  {
   "cell_type": "code",
   "execution_count": 24,
   "metadata": {},
   "outputs": [],
   "source": [
    "tpr_list, fpr_list = computing_with_threshold()"
   ]
  },
  {
   "cell_type": "markdown",
   "metadata": {},
   "source": [
    "### ROC curve"
   ]
  },
  {
   "cell_type": "code",
   "execution_count": 30,
   "metadata": {},
   "outputs": [
    {
     "data": {
      "image/png": "[encoded data removed]",
      "text/plain": [
       "<Figure size 432x288 with 1 Axes>"
      ]
     },
     "metadata": {
      "needs_background": "light"
     },
     "output_type": "display_data"
    }
   ],
   "source": [
    "plt.plot(fpr_list, tpr_list, color=\"orange\")\n",
    "# set options here\n",
    "plt.xlabel('False Positive Rate')\n",
    "plt.ylabel('True Positive Rate')\n",
    "plt.title('Receiver operating characteristic')\n",
    "plt.xlim([0.0, 1.0])\n",
    "plt.ylim([0.0, 1.05])\n",
    "plt.plot(fpr_list, fpr_list, color=\"navy\", linestyle=\"--\")\n",
    "plt.show()"
   ]
  },
  {
   "cell_type": "markdown",
   "metadata": {},
   "source": [
    "### AUC calculation\n",
    "\n",
    "- auc = P / (N +P)"
   ]
  },
  {
   "cell_type": "code",
   "execution_count": 46,
   "metadata": {},
   "outputs": [
    {
     "name": "stdout",
     "output_type": "stream",
     "text": [
      "0.8555945470610585\n"
     ]
    }
   ],
   "source": [
    "positive = prediction_df.loc[prediction_df[\"SeriousDlqin2yrs\"] == 1]\n",
    "negative = prediction_df.loc[prediction_df[\"SeriousDlqin2yrs\"] == 0]\n",
    "\n",
    "positive_over_negative = 0\n",
    "total_number = 0\n",
    "\n",
    "for positive_value in positive[\"1 probability\"]:\n",
    "    for negative_value in negative[\"1 probability\"]:\n",
    "        if positive_value > negative_value:\n",
    "            positive_over_negative += 1\n",
    "        total_number += 1\n",
    "\n",
    "auc = positive_over_negative / total_number\n",
    "print(auc)"
   ]
  },
  {
   "cell_type": "code",
   "execution_count": null,
   "metadata": {},
   "outputs": [],
   "source": []
  }
 ],
 "metadata": {
  "celltoolbar": "Aucun(e)",
  "kernelspec": {
   "display_name": "Python 3",
   "language": "python",
   "name": "python3"
  },
  "language_info": {
   "codemirror_mode": {
    "name": "ipython",
    "version": 3
   },
   "file_extension": ".py",
   "mimetype": "text/x-python",
   "name": "python",
   "nbconvert_exporter": "python",
   "pygments_lexer": "ipython3",
   "version": "3.7.4"
  },
  "toc": {
   "base_numbering": 1,
   "nav_menu": {},
   "number_sections": true,
   "sideBar": true,
   "skip_h1_title": false,
   "title_cell": "Table of Contents",
   "title_sidebar": "Contents",
   "toc_cell": false,
   "toc_position": {},
   "toc_section_display": true,
   "toc_window_display": true
  }
 },
 "nbformat": 4,
 "nbformat_minor": 2
}

{
 "cells": [
  {
   "cell_type": "markdown",
   "metadata": {},
   "source": [
    "# Predicting credit repayment probability"
   ]
  },
  {
   "cell_type": "code",
   "execution_count": 1,
   "metadata": {},
   "outputs": [],
   "source": [
    "import bigml.api"
   ]
  },
  {
   "cell_type": "code",
   "execution_count": 2,
   "metadata": {},
   "outputs": [],
   "source": [
    "# Setting the BigMl Api connection\n",
    "api = bigml.api.BigML(project='project/5db1644859f5c33b3c00076c')"
   ]
  },
  {
   "cell_type": "code",
   "execution_count": 3,
   "metadata": {},
   "outputs": [],
   "source": [
    "# RAW datas\n",
    "data_to_predict_on = {\n",
    "    \"RevolvingUtilizationOfUnsecuredLines\": 0.01703559,\n",
    "    \"NumberOfDependents\": 1,\n",
    "    \"DebtRatio\": 0,\n",
    "    \"age\": 42,\n",
    "    \"NumberOfOpenCreditLinesAndLoans\": 6,\n",
    "    \"NumberRealEstateLoansOrLines\": 1,\n",
    "    \"NumberOfTime30-59DaysPastDueNotWorse\": 1,\n",
    "    \"NumberOfTime60-89DaysPastDueNotWorse\": 0,\n",
    "    \"NumberOfTimes90DaysLate\": 0\n",
    "}\n",
    "data_columns = data_to_predict_on.keys()"
   ]
  },
  {
   "cell_type": "markdown",
   "metadata": {},
   "source": [
    "automatisation to add features to the datas"
   ]
  },
  {
   "cell_type": "code",
   "execution_count": 4,
   "metadata": {},
   "outputs": [],
   "source": [
    "def add_features(data):\n",
    "    if not \"MonthlyIncome\" in data_columns:\n",
    "        data_to_predict_on[\"MonthlyIncome\"] = 0\n",
    "    data_to_predict_on['NumberOfTimes30DaysOrMoreLate'] = data_to_predict_on['NumberOfTime30-59DaysPastDueNotWorse']+data_to_predict_on['NumberOfTime60-89DaysPastDueNotWorse']+data_to_predict_on['NumberOfTimes90DaysLate']\n",
    "    data_to_predict_on['IncomePerPerson'] = data_to_predict_on['MonthlyIncome']/(data_to_predict_on['NumberOfDependents']+1)\n",
    "    data_to_predict_on['MonthlyDebt'] = data_to_predict_on['MonthlyIncome']*data_to_predict_on['DebtRatio']\n",
    "    data_to_predict_on['MonthlyBalance'] = data_to_predict_on['MonthlyIncome']-data_to_predict_on['MonthlyDebt']"
   ]
  },
  {
   "cell_type": "code",
   "execution_count": 5,
   "metadata": {},
   "outputs": [
    {
     "data": {
      "text/plain": [
       "{'RevolvingUtilizationOfUnsecuredLines': 0.01703559,\n",
       " 'NumberOfDependents': 1,\n",
       " 'DebtRatio': 0,\n",
       " 'age': 42,\n",
       " 'NumberOfOpenCreditLinesAndLoans': 6,\n",
       " 'NumberRealEstateLoansOrLines': 1,\n",
       " 'NumberOfTime30-59DaysPastDueNotWorse': 1,\n",
       " 'NumberOfTime60-89DaysPastDueNotWorse': 0,\n",
       " 'NumberOfTimes90DaysLate': 0,\n",
       " 'MonthlyIncome': 0,\n",
       " 'NumberOfTimes30DaysOrMoreLate': 1,\n",
       " 'IncomePerPerson': 0.0,\n",
       " 'MonthlyDebt': 0,\n",
       " 'MonthlyBalance': 0}"
      ]
     },
     "execution_count": 5,
     "metadata": {},
     "output_type": "execute_result"
    }
   ],
   "source": [
    "add_features(data_to_predict_on)\n",
    "data_to_predict_on"
   ]
  },
  {
   "cell_type": "markdown",
   "metadata": {},
   "source": [
    "making the prediction"
   ]
  },
  {
   "cell_type": "code",
   "execution_count": 12,
   "metadata": {},
   "outputs": [],
   "source": [
    "prediction = api.create_prediction(\"ensemble/5dc43212e476847468018222\",\n",
    "                                 data_to_predict_on,\n",
    "                                  {\"name\": \"credit prediction\"})"
   ]
  },
  {
   "cell_type": "code",
   "execution_count": 13,
   "metadata": {},
   "outputs": [
    {
     "name": "stdout",
     "output_type": "stream",
     "text": [
      "SeriousDlqin2yrs for {'DebtRatio': 0, 'IncomePerPerson': 0.0, 'MonthlyBalance': 0, 'MonthlyDebt': 0, 'MonthlyIncome': 0, 'NumberOfDependents': 1, 'NumberOfOpenCreditLinesAndLoans': 6, 'NumberOfTime30-59DaysPastDueNotWorse': 1, 'NumberOfTime60-89DaysPastDueNotWorse': 0, 'NumberOfTimes30DaysOrMoreLate': 1, 'NumberOfTimes90DaysLate': 0, 'NumberRealEstateLoansOrLines': 1, 'RevolvingUtilizationOfUnsecuredLines': 0.01703559, 'age': 42} is 0\n"
     ]
    }
   ],
   "source": [
    "api.pprint(prediction)"
   ]
  },
  {
   "cell_type": "markdown",
   "metadata": {},
   "source": [
    "Le modèle prédit \"0\" donc False sur le fait de ne pas rembourser."
   ]
  }
 ],
 "metadata": {
  "kernelspec": {
   "display_name": "Python 3",
   "language": "python",
   "name": "python3"
  },
  "language_info": {
   "codemirror_mode": {
    "name": "ipython",
    "version": 3
   },
   "file_extension": ".py",
   "mimetype": "text/x-python",
   "name": "python",
   "nbconvert_exporter": "python",
   "pygments_lexer": "ipython3",
   "version": "3.7.4"
  },
  "toc": {
   "base_numbering": 1,
   "nav_menu": {},
   "number_sections": true,
   "sideBar": true,
   "skip_h1_title": false,
   "title_cell": "Table of Contents",
   "title_sidebar": "Contents",
   "toc_cell": false,
   "toc_position": {},
   "toc_section_display": true,
   "toc_window_display": false
  }
 },
 "nbformat": 4,
 "nbformat_minor": 2
}
